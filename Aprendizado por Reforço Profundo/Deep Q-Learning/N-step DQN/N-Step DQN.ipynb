{
 "cells": [
  {
   "cell_type": "markdown",
   "metadata": {
    "colab_type": "text",
    "id": "iWyEwLwn10hd"
   },
   "source": [
    "# N-Step DQN"
   ]
  },
  {
   "cell_type": "markdown",
   "metadata": {
    "colab_type": "text",
    "id": "E-R_VyNqyAoq"
   },
   "source": [
    "# Conceito\n",
    "Em algoritmos de Monte Carlo, o nosso modelo ¨aprende¨ em cada transição com base em **toda** a sequência de recompensas em um episódio, ou seja, o retorno completo ($G_{t}$). Já em one-step Temporal Diference, o aprendizado é feito observando apenas uma recompensa no futuro ($R_{t + 1}$) e aproximamos o restante do retorno ($G_{t+1}$) como sendo o valor do próximo estado ($V(S_{t + 1})$).\n",
    "\n",
    "\n",
    "Agora, em N-step, tomamos uma abordagem intermediária a esses dois algoritmos. Não chegamos a utilizar a totalidade do retorno ($G_{t}$), mas **n** passos a frente do presente (**t**). Dessa forma, obtemos a seguinte expressão:\n",
    "\n",
    "$$ G_t = R_{t+1} + \\gamma R_{t + 2} + \\gamma^2 R_{t + 3} + \\dots + \\gamma^{T -t -1} R_{T} $$\n",
    "\n",
    "\n",
    "$$ G_{t:t + n} = R_{t+1} + \\gamma R_{t + 2} + \\gamma^2 R_{t + 3} + \\dots + \\gamma^{n -1} R_{t + n} + \\gamma^n V_{t +n -1}(S_{t + n}) $$\n",
    "\n",
    "\n",
    "\n",
    "onde $G_t$ representa o retorno completo (usado em Monte Carlo) e $G_{t:t + n}$ a aproximação do retorno com n-step, utilizando bootstraping do Valor do estado no instante t + n ($V_{t +n -1}(S_{t + n})$).\n",
    "\n",
    "![N-Step](https://media.discordapp.net/attachments/688564171973197869/752614671974006844/unknown.png)\n",
    "\n",
    "Vale notar que, no início do episódio, o agente não possui todas as experiências necessárias para fazer a estimativa do retorno. Para contornar isso, fazemos mudanças no replay buffer (explicadas mais a frente) para possibilitar o cálculo.\n",
    "\n",
    "## Sarsa para $n$-Step\n",
    "Agora que temos uma noção de como o $n$-step funciona, podemos nos preocupar em como nosso agente pode fazer uma escolha se baseando nesse processo. Para isso, mudamos nossa previsão para que ela preveja ações e não estados. Com esse objetivo, chegamos às seguintes expressões:\n",
    "\n",
    "$$G_{t:t + n} = R_{t+1} + \\gamma R_{t + 2} + \\gamma^2 R_{t + 3} + \\dots + \\gamma^{n -1} R_{t + n} + \\gamma^n Q_{t +n -1}(S_{t + n}, A_{t + n}) $$\n",
    "\n",
    "$$Q_{t +n}(S_{t}, A_{t}) = Q_{t +n -1}(S_{t}, A_{t}) + \\alpha [G_{t:t + n} - Q_{t +n -1}(S_{t}, A_{t})]$$\n",
    "\n",
    "\n",
    "Tendo esse algoritmo, só precisamos de uma política $\\pi$, por exemplo, $\\varepsilon$-greedy.\n",
    "\n",
    "## *Off-policy* $n$-step\n",
    "Na implementação Off-Policy de n-Step, nosso objetivo é usar as informações obtidas a partir da nossa política atual para obter uma política ótima, da mesma forma como acontecia com o Q-Learning. Para obter a equação do Q-Learning, referente ao 1-step, bastou substituir o Q que dependia da ação escolhida pela nossa política, $Q(S_{t + 1}, A_{t + 1})$, por $max_{a'}Q(S_{t + 1}, a')$, referente à política ótima:\n",
    "\n",
    "$$G_{t} = R_{t+1} + \\gamma Q(S_{t + 1}, A_{t + 1})$$\n",
    "$$G_{t} = R_{t+1} + \\gamma max_{a'} Q(S_{t + 1}, a')$$\n",
    "\n",
    "Entretanto, na equação de n-Step Sarsa, os termos $R_{t+i}$ também são dependentes da política que estamos seguindo, com exceção do $R_{t+1}$, que depende somente da ação tomada no tempo _t_. Basicamente, isso significa que, seguindo a política ótima, obteríamos  recompensas diferentes $R_{t+i}$, já que tomamos ações diferentes ao longo da trajetória.\n",
    "\n",
    "$$G_{t:t + n} = R_{t+1} + \\gamma R_{t + 2} + \\gamma^2 R_{t + 3} + \\dots + \\gamma^{n -1} R_{t + n} + \\gamma^n Q_{t +n -1}(S_{t + n}, A_{t + n})$$\n",
    "\n",
    "Dessa forma, seria necessário implementar uma \"correção\" no nosso cálculo chamada *importance sampling*. Isso necessariamente requer que avaliemos a *importance sampling ratio* ($\\rho_{t:t+n-1}$) para cada passo a frente (n) que queremos avaliar.\n",
    "\n",
    "No entanto, com base nos artigos:\n",
    "> \"Rainbow: Combining Improvements in Deep Reinforcement Learning\": https://arxiv.org/pdf/1710.02298.pdf\n",
    "\n",
    "> \"Understanding Multi-Step Deep Reinforcement\n",
    "Learning: A Systematic Study of the DQN Target\": https://arxiv.org/pdf/1901.07510.pdf\n",
    "\n",
    "decidimos por não integrar *importance sampling* ao modelo pois, para valores de $n$ pequenos comumente como $n=3$, não aparentam existir impactos significativos da falta desse recurso. Além disso, para valores de $n$ maiores, o treinamento seria mais demorado, sem benefícios claros.\n",
    "\n",
    "Logo, a única alteração feita para off-policy em relação a on-policy $n$-step, é utilizar o $max_{a'} Q(S_{t+n}, a')$ ao invés do $Q(S_{t+n}, A_{t+n})$.\n",
    "<br/>\n",
    "<br/>\n",
    "\n",
    "$$G_{t:t + n} = R_{t+1} + \\gamma R_{t + 2} + \\gamma^2 R_{t + 3} + \\dots + \\gamma^{n -1} R_{t + n} + \\gamma^n max_{a'} Q_{t +n -1}(S_{t + n}, a') $$\n",
    "\n"
   ]
  },
  {
   "cell_type": "markdown",
   "metadata": {
    "colab_type": "text",
    "id": "7zkpagykkFj3"
   },
   "source": [
    "## Importações"
   ]
  },
  {
   "cell_type": "code",
   "execution_count": 1,
   "metadata": {
    "colab": {},
    "colab_type": "code",
    "id": "IgCJLiwZkId-"
   },
   "outputs": [],
   "source": [
    "import gym\n",
    "import math\n",
    "import numpy as np\n",
    "import matplotlib.pyplot as plt"
   ]
  },
  {
   "cell_type": "code",
   "execution_count": 2,
   "metadata": {
    "colab": {},
    "colab_type": "code",
    "id": "mfdnGQ1CkKF2"
   },
   "outputs": [],
   "source": [
    "import torch\n",
    "import torch.nn as nn\n",
    "import torch.optim as optim\n",
    "import torch.nn.functional as F"
   ]
  },
  {
   "cell_type": "markdown",
   "metadata": {
    "colab_type": "text",
    "id": "bUP-IhpJkt73"
   },
   "source": [
    "## N-Step Buffer\n",
    "\n",
    "Para implementar nosso algoritmo n-step, vamos modificar o ReplayBuffer para retornar o n-step reward ($R_{t:t+n}$) em vez da recompensa no instante seguinte ($R_{t+1}$). \n",
    "\n",
    "$$R_{t:t+n} = R_{t+1} + \\gamma R_{t+2} + \\gamma^2 R_{t+3} + ... + \\gamma^{n-1}R_{t + n}$$\n",
    "\n",
    "Também alteraremos o estado seguinte de $S_{t+1}$ para $S_{t+n}$."
   ]
  },
  {
   "cell_type": "code",
   "execution_count": 3,
   "metadata": {
    "colab": {},
    "colab_type": "code",
    "id": "PCnTllt7oCi6"
   },
   "outputs": [],
   "source": [
    "import numpy as np\n",
    "\n",
    "class NStepBuffer:\n",
    "    \"\"\"Experience Replay Buffer com n-step para DQNs.\"\"\"\n",
    "    def __init__(self, max_length, observation_space, gamma, n_step=3):\n",
    "        \"\"\"Cria um Replay Buffer.\n",
    "\n",
    "        Parâmetros\n",
    "        ----------\n",
    "        max_length: int\n",
    "            Tamanho máximo do Replay Buffer.\n",
    "        observation_space: int\n",
    "            Tamanho do espaço de observação.\n",
    "        gamma: float\n",
    "            Fator de desconto.\n",
    "        n_step: int\n",
    "            Timesteps considerados.\n",
    "        \"\"\"\n",
    "        self.gamma, self.n_step, self.episode_step = gamma, n_step, 0\n",
    "        self.index, self.size, self.max_length = 0, 0, max_length\n",
    "\n",
    "        self.states = np.zeros((max_length, observation_space), dtype=np.float32)\n",
    "        self.actions = np.zeros((max_length), dtype=np.int32)\n",
    "        self.n_step_return = np.zeros((max_length), dtype=np.float32)\n",
    "        self.next_states = np.zeros((max_length, observation_space), dtype=np.float32)\n",
    "        self.dones = np.zeros((max_length), dtype=np.float32)\n",
    "\n",
    "    def __len__(self):\n",
    "        \"\"\"Retorna o tamanho do buffer.\"\"\"\n",
    "        return self.size\n",
    "\n",
    "    def update(self, state, action, reward, next_state, done):\n",
    "        \"\"\"Adiciona uma experiência ao Replay Buffer.\n",
    "\n",
    "        Parâmetros\n",
    "        ----------\n",
    "        state: np.array\n",
    "            Estado da transição.\n",
    "        action: int\n",
    "            Ação tomada.\n",
    "        reward: float\n",
    "            Recompensa recebida.\n",
    "        state: np.array\n",
    "            Estado seguinte.\n",
    "        done: bool\n",
    "            Flag indicando se o episódio acabou.\n",
    "        \"\"\"\n",
    "        self.states[self.index] = state\n",
    "        self.actions[self.index] = action\n",
    "        self.dones[self.index] = done\n",
    "        self.n_step_return[self.index] = 0\n",
    "        \n",
    "        # Soma o reward atual aos n instantes passados\n",
    "        for n in range(self.n_step):\n",
    "            if self.episode_step - n >= 0:\n",
    "                self.n_step_return[(self.index - n) % self.max_length] += reward * self.gamma**n\n",
    "        \n",
    "        if done:\n",
    "            self.episode_step = -1\n",
    "            self.dones[self.index - self.n_step + 1:self.index] = done\n",
    "        \n",
    "        if self.episode_step - self.n_step + 1 >= 0:\n",
    "            self.next_states[(self.index - self.n_step + 1) % self.max_length] = next_state\n",
    "        \n",
    "        self.episode_step += 1\n",
    "        self.index = (self.index + 1) % self.max_length\n",
    "        if self.size < self.max_length:\n",
    "            self.size = self.index\n",
    "            \n",
    "    def sample(self, batch_size):\n",
    "        \"\"\"Retorna um batch de experiências.\n",
    "        \n",
    "        Parâmetros\n",
    "        ----------\n",
    "        batch_size: int\n",
    "            Tamanho do batch de experiências.\n",
    "\n",
    "        Retorna\n",
    "        -------\n",
    "        states: np.array\n",
    "            Batch de estados.\n",
    "        actions: np.array\n",
    "            Batch de ações.\n",
    "        n_step_return: np.array\n",
    "            Batch de retornos.\n",
    "        next_states: np.array\n",
    "            Batch de estados seguintes.\n",
    "        dones: np.array\n",
    "            Batch de flags indicando se o episódio acabou.\n",
    "        \"\"\"\n",
    "        # Escolhe índices aleatoriamente do Replay Buffer\n",
    "        idxs = np.random.randint(0, self.size, size=batch_size)\n",
    "\n",
    "        return (self.states[idxs], self.actions[idxs], self.n_step_return[idxs], self.next_states[idxs], self.dones[idxs])"
   ]
  },
  {
   "cell_type": "markdown",
   "metadata": {
    "colab_type": "text",
    "id": "IKyLGJFyoFjR"
   },
   "source": [
    "## Rede Neural"
   ]
  },
  {
   "cell_type": "code",
   "execution_count": 4,
   "metadata": {
    "colab": {},
    "colab_type": "code",
    "id": "J4F49tlkvPfq"
   },
   "outputs": [],
   "source": [
    "import numpy as np\n",
    "import torch\n",
    "import torch.nn as nn\n",
    "import torch.optim as optim\n",
    "import torch.nn.functional as F\n",
    "\n",
    "class Network(nn.Module):\n",
    "    def __init__(self, in_dim, out_dim):\n",
    "        super(Network, self).__init__()\n",
    "\n",
    "        self.layers = nn.Sequential(\n",
    "            nn.Linear(in_dim, 64), \n",
    "            nn.ReLU(),\n",
    "            nn.Linear(64, 64), \n",
    "            nn.ReLU(), \n",
    "            nn.Linear(64, out_dim)\n",
    "        )\n",
    "\n",
    "    def forward(self, x):\n",
    "        return self.layers(x)"
   ]
  },
  {
   "cell_type": "markdown",
   "metadata": {
    "colab_type": "text",
    "id": "xWrD9V1kvWth"
   },
   "source": [
    "## Agente DQN"
   ]
  },
  {
   "cell_type": "code",
   "execution_count": 5,
   "metadata": {
    "colab": {},
    "colab_type": "code",
    "id": "UMXF17a7oIqJ"
   },
   "outputs": [],
   "source": [
    "class DQNAgent:\n",
    "    \"\"\"\n",
    "    Uma classe que cria um agente DQN que utiliza NStepBuffer como memória\n",
    "    \"\"\"\n",
    "    def __init__(self, \n",
    "                 observation_space, \n",
    "                 action_space, \n",
    "                 lr=7e-4, \n",
    "                 gamma=0.99,\n",
    "                 max_memory=100000,\n",
    "                 epsilon_init=0.5,\n",
    "                 epsilon_decay=0.9995,\n",
    "                 min_epsilon=0.01,\n",
    "                 n_step=3):\n",
    "        \"\"\"\n",
    "        Inicializa o agente com os parâmetros dados\n",
    "        \"\"\"\n",
    "        self.device = torch.device(\"cuda\" if torch.cuda.is_available() else \"cpu\")\n",
    "\n",
    "        self.gamma = gamma\n",
    "        self.n_step = n_step\n",
    "        self.memory = NStepBuffer(max_memory, observation_space.shape[0], gamma, n_step)\n",
    "        self.action_space = action_space\n",
    "\n",
    "        self.epsilon = epsilon_init\n",
    "        self.epsilon_decay = epsilon_decay\n",
    "        self.min_epsilon = min_epsilon\n",
    "\n",
    "        self.dqn = Network(observation_space.shape[0], action_space.n).to(self.device)\n",
    "\n",
    "        self.optimizer  = optim.Adam(self.dqn.parameters(), lr=lr)\n",
    "\n",
    "    def act(self, state):\n",
    "        self.epsilon *= self.epsilon_decay\n",
    "        self.epsilon = max(self.epsilon, self.min_epsilon)\n",
    "\n",
    "        if np.random.random() < self.epsilon:\n",
    "            action = self.action_space.sample()\n",
    "            return action\n",
    "\n",
    "        with torch.no_grad():\n",
    "            state = torch.FloatTensor(state).to(self.device)\n",
    "            action = self.dqn.forward(state).argmax(dim=-1)\n",
    "            action = action.cpu().numpy()\n",
    "\n",
    "        return action\n",
    "\n",
    "    def remember(self, state, action, reward, new_state, done):\n",
    "        self.memory.update(state, action, reward, new_state, done)\n",
    "\n",
    "    def train(self, batch_size=32, epochs=1):\n",
    "        # Se temos menos experiências que o batch size\n",
    "        # não começamos o treinamento\n",
    "        if batch_size > self.memory.size:\n",
    "            return\n",
    "        \n",
    "        for epoch in range(epochs):\n",
    "            # Pegamos uma amostra das nossas experiências para treinamento\n",
    "            (states, actions, rewards, next_states, dones) = self.memory.sample(batch_size)\n",
    "\n",
    "            # Transformar nossas experiências em tensores\n",
    "            states = torch.as_tensor(states).to(self.device)\n",
    "            actions = torch.as_tensor(actions).to(self.device).unsqueeze(-1)\n",
    "            rewards = torch.as_tensor(rewards).to(self.device).unsqueeze(-1)\n",
    "            next_states = torch.as_tensor(next_states).to(self.device)\n",
    "            dones = torch.as_tensor(dones).to(self.device).unsqueeze(-1)\n",
    "\n",
    "            q = self.dqn.forward(states).gather(-1, actions.long())\n",
    "\n",
    "            with torch.no_grad():\n",
    "                q2 = self.dqn.forward(next_states).max(dim=-1, keepdim=True)[0]\n",
    "\n",
    "                target = (rewards + (1 - dones) * (self.gamma ** self.n_step) * q2).to(self.device)\n",
    "\n",
    "            loss = F.mse_loss(q, target)\n",
    "\n",
    "            self.optimizer.zero_grad()\n",
    "            loss.backward()\n",
    "            self.optimizer.step()"
   ]
  },
  {
   "cell_type": "markdown",
   "metadata": {
    "colab_type": "text",
    "id": "QS47MlN8pga6"
   },
   "source": [
    "### Definição de parâmetros"
   ]
  },
  {
   "cell_type": "code",
   "execution_count": 6,
   "metadata": {
    "colab": {},
    "colab_type": "code",
    "id": "C8vR8vZS1_A7"
   },
   "outputs": [],
   "source": [
    "env_name = 'CartPole-v1'\n",
    "env = gym.make(env_name)"
   ]
  },
  {
   "cell_type": "code",
   "execution_count": 7,
   "metadata": {
    "colab": {},
    "colab_type": "code",
    "id": "0ARH8j14pfFT"
   },
   "outputs": [],
   "source": [
    "BATCH_SIZE = 32\n",
    "GAMMA = 0.99\n",
    "EPS_INIT = 0.7\n",
    "EPS_END = 0.05\n",
    "EPS_DECAY = 0.999\n",
    "MAX_MEMORY = 100000\n",
    "OBS_SPACE = env.observation_space\n",
    "ACT_SPACE = env.action_space\n",
    "N_STEP = 3"
   ]
  },
  {
   "cell_type": "markdown",
   "metadata": {
    "colab_type": "text",
    "id": "xwOrceIGpm_N"
   },
   "source": [
    "### Criando a DQN"
   ]
  },
  {
   "cell_type": "code",
   "execution_count": 8,
   "metadata": {
    "colab": {},
    "colab_type": "code",
    "id": "yjfkvnvCpxLq"
   },
   "outputs": [],
   "source": [
    "agent = DQNAgent(observation_space=OBS_SPACE, \n",
    "                 action_space=ACT_SPACE, \n",
    "                 lr=7e-4, \n",
    "                 gamma=GAMMA, \n",
    "                 max_memory=MAX_MEMORY,\n",
    "                 epsilon_init=EPS_INIT,\n",
    "                 epsilon_decay=EPS_DECAY,\n",
    "                 min_epsilon=EPS_END,\n",
    "                 n_step=N_STEP)"
   ]
  },
  {
   "cell_type": "markdown",
   "metadata": {
    "colab_type": "text",
    "id": "RmYPxiROsQ9v"
   },
   "source": [
    "## Treinamento"
   ]
  },
  {
   "cell_type": "code",
   "execution_count": 9,
   "metadata": {
    "colab": {},
    "colab_type": "code",
    "id": "bLk74CbAIffE"
   },
   "outputs": [],
   "source": [
    "import math\n",
    "from collections import deque\n",
    "\n",
    "def train(agent, env, total_timesteps):\n",
    "    total_reward = 0\n",
    "    episode_returns = deque(maxlen=20)\n",
    "    avg_returns = []\n",
    "\n",
    "    state = env.reset()\n",
    "    timestep = 0\n",
    "    episode = 0\n",
    "\n",
    "    while timestep < total_timesteps:\n",
    "        action = agent.act(state)\n",
    "        next_state, reward, done, _ = env.step(action)\n",
    "        agent.remember(state, action, reward, next_state, done)\n",
    "        agent.train()\n",
    "        \n",
    "        timestep += 1\n",
    "\n",
    "        total_reward += reward\n",
    "\n",
    "\n",
    "        if done:\n",
    "            episode_returns.append(total_reward)\n",
    "            episode += 1\n",
    "            next_state = env.reset()\n",
    "\n",
    "        if episode_returns:\n",
    "            avg_returns.append(np.mean(episode_returns))\n",
    "\n",
    "        total_reward *= 1 - done\n",
    "        state = next_state\n",
    "\n",
    "        ratio = math.ceil(100 * timestep / total_timesteps)\n",
    "\n",
    "        avg_return = avg_returns[-1] if avg_returns else np.nan\n",
    "        \n",
    "        print(f\"\\r[{ratio:3d}%] timestep = {timestep}/{total_timesteps}, episode = {episode:3d}, avg_return = {avg_return:10.4f}\", end=\"\")\n",
    "\n",
    "    return avg_returns"
   ]
  },
  {
   "cell_type": "code",
   "execution_count": 10,
   "metadata": {
    "colab": {
     "base_uri": "https://localhost:8080/",
     "height": 34
    },
    "colab_type": "code",
    "executionInfo": {
     "elapsed": 87674,
     "status": "ok",
     "timestamp": 1599511816287,
     "user": {
      "displayName": "Bernardo Coutinho",
      "photoUrl": "https://lh3.googleusercontent.com/a-/AOh14Gjbcuim7oGIm-uXpKRCJxDYg0Nhguq2a4_xKQcpjw=s64",
      "userId": "08343358744938767290"
     },
     "user_tz": 180
    },
    "id": "-vVnEAzLI4WX",
    "outputId": "9309817a-2819-4363-9cb6-22d36812f580"
   },
   "outputs": [
    {
     "name": "stdout",
     "output_type": "stream",
     "text": [
      "[100%] timestep = 40000/40000, episode = 135, avg_return =   493.0000"
     ]
    }
   ],
   "source": [
    "returns = train(agent, env, 40000)"
   ]
  },
  {
   "cell_type": "code",
   "execution_count": 11,
   "metadata": {
    "colab": {
     "base_uri": "https://localhost:8080/",
     "height": 265
    },
    "colab_type": "code",
    "executionInfo": {
     "elapsed": 88021,
     "status": "ok",
     "timestamp": 1599511816666,
     "user": {
      "displayName": "Bernardo Coutinho",
      "photoUrl": "https://lh3.googleusercontent.com/a-/AOh14Gjbcuim7oGIm-uXpKRCJxDYg0Nhguq2a4_xKQcpjw=s64",
      "userId": "08343358744938767290"
     },
     "user_tz": 180
    },
    "id": "2VQQJa21NdlO",
    "outputId": "0714bb3a-52b0-4dbe-edf2-7fac113b02dc"
   },
   "outputs": [
    {
     "data": {
      "image/png": "[encoded data removed]",
      "text/plain": [
       "<Figure size 432x288 with 1 Axes>"
      ]
     },
     "metadata": {
      "needs_background": "light"
     },
     "output_type": "display_data"
    }
   ],
   "source": [
    "plt.plot(returns, 'r')\n",
    "plt.show()"
   ]
  },
  {
   "cell_type": "markdown",
   "metadata": {
    "colab_type": "text",
    "id": "7yJS829tGg6r"
   },
   "source": [
    "Comparando com a performance de uma DQN sem $n$-step:\n",
    "\n",
    "![DQN](https://media.discordapp.net/attachments/688564171973197869/752599003962540094/unknown.png)"
   ]
  },
  {
   "cell_type": "markdown",
   "metadata": {
    "colab_type": "text",
    "id": "WNLK9rllIVTx"
   },
   "source": [
    "## Testando nosso Agente"
   ]
  },
  {
   "cell_type": "code",
   "execution_count": 12,
   "metadata": {
    "colab": {},
    "colab_type": "code",
    "id": "gt3TIhQc_5U-"
   },
   "outputs": [],
   "source": [
    "import math\n",
    "\n",
    "def evaluate(agent, env, episodes=10):\n",
    "    total_reward = 0\n",
    "    episode_returns = deque(maxlen=episodes)\n",
    "    \n",
    "    episode = 0\n",
    "\n",
    "    state = env.reset()\n",
    "\n",
    "    while episode < episodes:\n",
    "        action = agent.act(state)\n",
    "        next_state, reward, done, _ = env.step(action)        \n",
    "       \n",
    "        total_reward += reward\n",
    "\n",
    "        if done:\n",
    "            episode_returns.append(total_reward)\n",
    "            episode += 1\n",
    "            next_state = env.reset()\n",
    "\n",
    "        total_reward *= 1 - done\n",
    "        state = next_state\n",
    "\n",
    "        ratio = math.ceil(100 * episode / episodes)\n",
    "        \n",
    "        print(f\"\\r[{ratio:3d}%] episode = {episode:3d}, avg_return = {np.mean(episode_returns):10.4f}\", end=\"\")\n",
    "\n",
    "    return np.mean(episode_returns)"
   ]
  },
  {
   "cell_type": "code",
   "execution_count": 13,
   "metadata": {
    "colab": {
     "base_uri": "https://localhost:8080/",
     "height": 105
    },
    "colab_type": "code",
    "executionInfo": {
     "elapsed": 91593,
     "status": "ok",
     "timestamp": 1599511820292,
     "user": {
      "displayName": "Bernardo Coutinho",
      "photoUrl": "https://lh3.googleusercontent.com/a-/AOh14Gjbcuim7oGIm-uXpKRCJxDYg0Nhguq2a4_xKQcpjw=s64",
      "userId": "08343358744938767290"
     },
     "user_tz": 180
    },
    "id": "dLCaC4Hy_6-5",
    "outputId": "cbb3f08a-900b-4ec4-f040-8138543e2e47"
   },
   "outputs": [
    {
     "name": "stderr",
     "output_type": "stream",
     "text": [
      "D:\\ProgramData\\Anaconda3\\lib\\site-packages\\numpy\\core\\fromnumeric.py:3335: RuntimeWarning: Mean of empty slice.\n",
      "  out=out, **kwargs)\n",
      "D:\\ProgramData\\Anaconda3\\lib\\site-packages\\numpy\\core\\_methods.py:161: RuntimeWarning: invalid value encountered in double_scalars\n",
      "  ret = ret.dtype.type(ret / rcount)\n"
     ]
    },
    {
     "name": "stdout",
     "output_type": "stream",
     "text": [
      "[100%] episode =  10, avg_return =   471.1000"
     ]
    },
    {
     "data": {
      "text/plain": [
       "471.1"
      ]
     },
     "execution_count": 13,
     "metadata": {},
     "output_type": "execute_result"
    }
   ],
   "source": [
    "evaluate(agent, env, 10)"
   ]
  },
  {
   "cell_type": "markdown",
   "metadata": {
    "colab_type": "text",
    "id": "-NcxQb1uBjk4"
   },
   "source": [
    "## Referências\n",
    "\n",
    "\"Reinforcement Learning: An Introduction\"\n",
    "\n",
    "\"Rainbow: Combining Improvements in Deep Reinforcement Learning\": https://arxiv.org/pdf/1710.02298.pdf\n",
    "\n",
    "\"Understanding Multi-Step Deep Reinforcement\n",
    "Learning: A Systematic Study of the DQN Target\": https://arxiv.org/pdf/1901.07510.pdf"
   ]
  }
 ],
 "metadata": {
  "colab": {
   "collapsed_sections": [],
   "name": "N-Step DQN.ipynb",
   "provenance": []
  },
  "kernelspec": {
   "display_name": "Python 3",
   "language": "python",
   "name": "python3"
  },
  "language_info": {
   "codemirror_mode": {
    "name": "ipython",
    "version": 3
   },
   "file_extension": ".py",
   "mimetype": "text/x-python",
   "name": "python",
   "nbconvert_exporter": "python",
   "pygments_lexer": "ipython3",
   "version": "3.7.6"
  }
 },
 "nbformat": 4,
 "nbformat_minor": 1
}
