{
 "cells": [
  {
   "cell_type": "markdown",
   "metadata": {},
   "source": [
    "# Q-Learning\n",
    "\n",
    "O algoritmo de Q-Learning é um dos algoritmos do grupo TD (Temporal difference, diferença temporal), que estimam a função de valor por meio de uma estimativa a partir de outra estimativa, processo chamado _bootstrapping_.\n",
    "\n",
    "## Motivação\n",
    "\n",
    "Assim como nos métodos de Monte Carlo, os métodos TD tem vantagens sobre os métodos de Programação Dinâmica (DP) por não dependerem de um modelo do ambiente para seu funcionamento, sendo capazes de aprender diretamente com a experiência.\n",
    "\n",
    "No entanto, os métodos TD têm uma vantagem sobre os métodos de Monte Carlo (MC), pois são capazes de aprendizado _online_, ou seja, aprendem com a passagem do episódio, enquanto os métodos de MC precisam chegar no final do episódio para iniciar o aprendizado. Em episódios longos ou em ambientes que não estão divididos em episódios, os métodos MC se tornam inviáveis.\n",
    "\n",
    "## Teoria\n",
    "\n",
    "O objetivo do algoritmo é encontrar a função de *Valor Estado-Ação* da política ótima, ou seja, a função que melhor representa os valores *q* para cada par estado-ação do ambiente. A equação da função se encontra abaixo, onde o valor q é dado pelo valor esperado do retorno G, dado um par estado-ação:\n",
    "\n",
    "![funcao q](https://camo.githubusercontent.com/003498f344a099b4d34d45aa2bc0841e562fa01e/68747470733a2f2f6c617465782e636f6465636f67732e636f6d2f6769662e6c617465783f715f5c706928732c61292673706163653b3d2673706163653b5c6d6174686f707b5c6d61746862627b457d5f5c70697d5b7b475f747d7c7b535f743d732c2673706163653b415f743d617d5d)\n",
    "\n",
    "O algoritmo de Q-Learning é extremamente versátil dentro dos métodos TD, por ser um algoritmo _off-policy_, ou seja, seu aprendizado não depende da política que está sendo seguida, diferente de outros métodos TD, como SARSA. Com isso, o treinamento é mais eficiente, pois pode usar experiências armazenadas em seu treinamento, não somente o que o agente está observando no episódio em si.\n",
    "\n",
    "## Política\n",
    "\n",
    "A política adotada é a chamada ε-greedy (ε-guloso). Um número aleatório no intervalo entre 0 e 1 é comparado com ε. Se o número aleatório for menor do que o valor de ε, a ação tomada vai ser aleatória, de forma a explorar o ambiente. Caso contrário, a ação vai ser a que possui maior valor Q, de acordo com as estimativas atuais que o algoritmo possui. Dessa forma, o agente tomará uma ação aleatória com probabilidade ε.\n",
    "\n",
    "## Algoritmo\n",
    "\n",
    "O algoritmo consiste na atualização das estimativas dos valores Q(S, A) de acordo com a seguinte expressão:\n",
    "\n",
    "<img src=\"https://latex.codecogs.com/svg.latex?Q(S,&space;A)&space;\\leftarrow&space;Q(S,&space;A)&space;&plus;&space;\\alpha&space;[R&space;&plus;&space;\\gamma&space;\\max_{a}Q(S',&space;a)&space;-&space;Q(S,&space;A)]\" title=\"Q(S, A) \\leftarrow Q(S, A) + \\alpha [R + \\gamma \\max_{a}Q(S', a) - Q(S, A)]\" />\n",
    "\n",
    "De forma resumida, o valor Q(S,A) é atualizado fazendo uma \"correção\" com \"taxa de aprendizado\" &alpha;, considerando a recompensa R recebida com a escolha da ação e a ação futura que maximiza o valor Q do próximo estado (S'), descontada de um fator &gamma;. É interessante ressaltar que todas as atualizações são feitas com as estimativas, tanto do presente quanto do futuro, que vão se aprimorando até se aproximar da função q da política ótima. É possível enxergar a expressão que multiplica &alpha; como um erro, pois temos R + &gamma; maxQ(S', a) como nosso _objetivo_ e Q(S, a) nossa _estimativa_. A diferença dos dois fatores é portanto um erro. No contexto de algoritmos TD, este erro é chamado _TD-error_.\n",
    "\n",
    "O funcionamento do algoritmo ao longo dos episódios pode ser visto no pseudocódigo a seguir:\n",
    "\n",
    "![Algoritmo de Q-Learning](imgs/q-learning.svg)"
   ]
  },
  {
   "cell_type": "markdown",
   "metadata": {},
   "source": [
    "## Código\n",
    "\n",
    "\n",
    "Inicialmente, iremos definir a classe do nosso agente, com as principais funções necessárias para seu funcionamento."
   ]
  },
  {
   "cell_type": "code",
   "execution_count": 1,
   "metadata": {},
   "outputs": [],
   "source": [
    "import numpy as np\n",
    "\n",
    "class QLearningAgent:\n",
    "    \"\"\"\n",
    "    Classe do agente que seguirá o algoritmo de Q-Learning\n",
    "    \"\"\"\n",
    "    def __init__(self, epsilon, decay, epsilon_min, alpha, gamma, n_actions):\n",
    "        \"\"\"\n",
    "        Inicializa os parâmetros do algoritmo, assim como a  'tabela' Q\n",
    "\n",
    "         Parâmetros\n",
    "        ----------\n",
    "        epsilon: float\n",
    "            Probabilidade de tomar ação aleatória.\n",
    "        decay: float\n",
    "            Taxa de decaimento do epsilon por episódio.\n",
    "        epsilon_min: float\n",
    "            Valor mínimo de epsilon.\n",
    "        alpha: float\n",
    "            Taxa de aprendizado.\n",
    "        gamma: float\n",
    "            Fator de desconto.\n",
    "        n_actions: int\n",
    "            Número de ações possíveis no ambiente\n",
    "        \"\"\"\n",
    "\n",
    "        self.Q = {} #tabela Q\n",
    "        self.n_actions = n_actions #número possível de ações, fornecido pelo env\n",
    "\n",
    "        # parâmetros para o epsilon-decay\n",
    "        self.epsilon = epsilon #epsilon inicial\n",
    "        self.decay = decay #taxa de decaimento\n",
    "        self.epsilon_min = epsilon_min #epsilon minimo\n",
    "\n",
    "        self.alpha = alpha #taxa de aprendizado\n",
    "        self.gamma = gamma #peso das recompensas futuras\n",
    "\n",
    "    def choose_action(self, env, state):\n",
    "        \"\"\"\n",
    "        Escolhe a ação do agente, de acordo com a política epsilon-greedy\n",
    "        \n",
    "        Parâmetros\n",
    "        ----------\n",
    "        env: Environment\n",
    "            Ambiente sendo utilizado.\n",
    "        state: np.array\n",
    "            Estado atual do agente\n",
    "\n",
    "        Retorna\n",
    "        ----------\n",
    "        action: int\n",
    "            Ação a ser tomada.\n",
    "        \"\"\"\n",
    "        if state not in self.Q.keys(): #acrescenta estado na tabela\n",
    "            self.Q[state] = [0] * self.n_actions\n",
    "\n",
    "        if np.random.random() < self.epsilon:\n",
    "            action = env.action_space.sample() #ação aleatória\n",
    "        else:\n",
    "            action = np.argmax(self.Q[state]) #melhor ação\n",
    "        return action\n",
    "\n",
    "    def epsilon_decay(self):\n",
    "        \"\"\"\n",
    "        Função que faz o decaimento de epsilon a cada episódio\n",
    "        \"\"\"\n",
    "        self.epsilon = max(self.epsilon*self.decay, self.epsilon_min)\n",
    "\n",
    "    def updates_Q(self, state, action, next_state, reward):\n",
    "        \"\"\"\n",
    "        Função que atualiza a tabela Q, de acordo com a equação do Q-Learning\n",
    "        \"\"\"\n",
    "        if state not in self.Q.keys():\n",
    "            self.Q[state] = [0] * self.n_actions\n",
    "        if next_state not in self.Q.keys():\n",
    "            self.Q[next_state] = [0] * self.n_actions\n",
    "\n",
    "        self.Q[state][action] = self.Q[state][action] + self.alpha*(reward + self.gamma*np.max(self.Q[next_state]) - self.Q[state][action])\n"
   ]
  },
  {
   "cell_type": "markdown",
   "metadata": {},
   "source": [
    "Agora que já possuímos o algoritmo de Q-Learning programado, podemos inicializar o ambiente que será utilizado. No caso, usaremos o Taxi-V3 do gym. Além disso, verificamos o número de ações existentes no ambiente."
   ]
  },
  {
   "cell_type": "code",
   "execution_count": 2,
   "metadata": {
    "tags": []
   },
   "outputs": [
    {
     "name": "stdout",
     "output_type": "stream",
     "text": [
      "6\n"
     ]
    }
   ],
   "source": [
    "import gym\n",
    "\n",
    "env = gym.make(\"Taxi-v3\")\n",
    "\n",
    "n_actions = env.action_space.n\n",
    "print(n_actions)"
   ]
  },
  {
   "cell_type": "markdown",
   "metadata": {},
   "source": [
    "Criamos então o nosso agente, passando os parâmetros necessários para sua inicalização:"
   ]
  },
  {
   "cell_type": "code",
   "execution_count": 3,
   "metadata": {
    "tags": []
   },
   "outputs": [],
   "source": [
    "agent = QLearningAgent(n_actions= n_actions,\n",
    "                       epsilon= 0.99,\n",
    "                       decay= 0.9999,\n",
    "                       epsilon_min= 0.01,\n",
    "                       alpha = 0.1,\n",
    "                       gamma = 0.9)\n"
   ]
  },
  {
   "cell_type": "markdown",
   "metadata": {},
   "source": [
    "Com nosso agente definido, entramos então no loop de treinamento, onde serão executados 10 000 episódios do ambiente, de acordo com o código a seguir: "
   ]
  },
  {
   "cell_type": "code",
   "execution_count": 4,
   "metadata": {
    "tags": []
   },
   "outputs": [
    {
     "name": "stdout",
     "output_type": "stream",
     "text": [
      "Episode 1000: return -776, average returns -693.9, epsilon 0.90\n",
      "Episode 2000: return -391, average returns -412.0, epsilon 0.81\n",
      "Episode 3000: return -488, average returns -223.6, epsilon 0.73\n",
      "Episode 4000: return -76, average returns -137.1, epsilon 0.66\n",
      "Episode 5000: return -153, average returns -96.0, epsilon 0.60\n",
      "Episode 6000: return -34, average returns -71.7, epsilon 0.54\n",
      "Episode 7000: return -49, average returns -52.4, epsilon 0.49\n",
      "Episode 8000: return 3, average returns -40.9, epsilon 0.44\n",
      "Episode 9000: return -32, average returns -33.1, epsilon 0.40\n",
      "Episode 10000: return -27, average returns -25.1, epsilon 0.36\n",
      "Episode 11000: return -13, average returns -19.5, epsilon 0.33\n",
      "Episode 12000: return -9, average returns -16.6, epsilon 0.30\n",
      "Episode 13000: return -1, average returns -12.7, epsilon 0.27\n",
      "Episode 14000: return -7, average returns -9.3, epsilon 0.24\n",
      "Episode 15000: return -6, average returns -7.8, epsilon 0.22\n",
      "Episode 16000: return 3, average returns -5.5, epsilon 0.20\n",
      "Episode 17000: return -50, average returns -3.7, epsilon 0.18\n",
      "Episode 18000: return -19, average returns -2.3, epsilon 0.16\n",
      "Episode 19000: return -7, average returns -1.8, epsilon 0.15\n",
      "Episode 20000: return -40, average returns -0.6, epsilon 0.13\n",
      "Episode 21000: return 0, average returns 0.6, epsilon 0.12\n",
      "Episode 22000: return -2, average returns 1.6, epsilon 0.11\n",
      "Episode 23000: return 5, average returns 2.2, epsilon 0.10\n",
      "Episode 24000: return 4, average returns 2.8, epsilon 0.09\n",
      "Episode 25000: return 2, average returns 2.8, epsilon 0.08\n",
      "Episode 26000: return 7, average returns 4.0, epsilon 0.07\n",
      "Episode 27000: return 4, average returns 3.9, epsilon 0.07\n",
      "Episode 28000: return 9, average returns 4.9, epsilon 0.06\n",
      "Episode 29000: return 10, average returns 5.0, epsilon 0.05\n",
      "Episode 30000: return -7, average returns 5.0, epsilon 0.05\n",
      "Episode 31000: return -7, average returns 5.5, epsilon 0.04\n",
      "Episode 32000: return 7, average returns 5.5, epsilon 0.04\n",
      "Episode 33000: return 9, average returns 5.9, epsilon 0.04\n",
      "Episode 34000: return 4, average returns 6.1, epsilon 0.03\n",
      "Episode 35000: return 8, average returns 6.2, epsilon 0.03\n",
      "Episode 36000: return 6, average returns 6.3, epsilon 0.03\n",
      "Episode 37000: return 7, average returns 6.7, epsilon 0.02\n",
      "Episode 38000: return 8, average returns 6.7, epsilon 0.02\n",
      "Episode 39000: return 14, average returns 6.9, epsilon 0.02\n",
      "Episode 40000: return 5, average returns 6.9, epsilon 0.02\n",
      "Episode 41000: return 12, average returns 7.0, epsilon 0.02\n",
      "Episode 42000: return 5, average returns 7.0, epsilon 0.01\n",
      "Episode 43000: return 14, average returns 7.0, epsilon 0.01\n",
      "Episode 44000: return 7, average returns 7.2, epsilon 0.01\n",
      "Episode 45000: return 13, average returns 7.3, epsilon 0.01\n",
      "Episode 46000: return 8, average returns 7.4, epsilon 0.01\n",
      "Episode 47000: return -3, average returns 7.5, epsilon 0.01\n",
      "Episode 48000: return 13, average returns 7.3, epsilon 0.01\n",
      "Episode 49000: return 13, average returns 7.6, epsilon 0.01\n",
      "Episode 50000: return 6, average returns 7.6, epsilon 0.01\n",
      "Episode 51000: return 7, average returns 7.3, epsilon 0.01\n",
      "Episode 52000: return 8, average returns 7.5, epsilon 0.01\n",
      "Episode 53000: return 4, average returns 7.4, epsilon 0.01\n",
      "Episode 54000: return 10, average returns 7.4, epsilon 0.01\n",
      "Episode 55000: return 7, average returns 7.4, epsilon 0.01\n",
      "Episode 56000: return 5, average returns 7.4, epsilon 0.01\n",
      "Episode 57000: return 5, average returns 7.5, epsilon 0.01\n",
      "Episode 58000: return 6, average returns 7.3, epsilon 0.01\n",
      "Episode 59000: return 10, average returns 7.5, epsilon 0.01\n",
      "Episode 60000: return 9, average returns 7.4, epsilon 0.01\n",
      "Episode 61000: return 9, average returns 7.5, epsilon 0.01\n",
      "Episode 62000: return 7, average returns 7.4, epsilon 0.01\n",
      "Episode 63000: return 7, average returns 7.4, epsilon 0.01\n",
      "Episode 64000: return 7, average returns 7.4, epsilon 0.01\n",
      "Episode 65000: return 9, average returns 7.4, epsilon 0.01\n",
      "Episode 66000: return 12, average returns 7.4, epsilon 0.01\n",
      "Episode 67000: return 5, average returns 7.5, epsilon 0.01\n",
      "Episode 68000: return 7, average returns 7.2, epsilon 0.01\n",
      "Episode 69000: return 10, average returns 7.4, epsilon 0.01\n",
      "Episode 70000: return 6, average returns 7.5, epsilon 0.01\n",
      "Episode 71000: return 10, average returns 7.4, epsilon 0.01\n",
      "Episode 72000: return 7, average returns 7.6, epsilon 0.01\n",
      "Episode 73000: return 7, average returns 7.3, epsilon 0.01\n",
      "Episode 74000: return 15, average returns 7.5, epsilon 0.01\n",
      "Episode 75000: return 4, average returns 7.3, epsilon 0.01\n",
      "Episode 76000: return 6, average returns 7.4, epsilon 0.01\n",
      "Episode 77000: return 6, average returns 7.5, epsilon 0.01\n",
      "Episode 78000: return 5, average returns 7.3, epsilon 0.01\n",
      "Episode 79000: return 6, average returns 7.4, epsilon 0.01\n",
      "Episode 80000: return 8, average returns 7.5, epsilon 0.01\n",
      "Episode 81000: return 5, average returns 7.6, epsilon 0.01\n",
      "Episode 82000: return 12, average returns 7.3, epsilon 0.01\n",
      "Episode 83000: return 8, average returns 7.5, epsilon 0.01\n",
      "Episode 84000: return 9, average returns 7.4, epsilon 0.01\n",
      "Episode 85000: return 8, average returns 7.4, epsilon 0.01\n",
      "Episode 86000: return 11, average returns 7.4, epsilon 0.01\n",
      "Episode 87000: return 7, average returns 7.4, epsilon 0.01\n",
      "Episode 88000: return 10, average returns 7.5, epsilon 0.01\n",
      "Episode 89000: return 11, average returns 7.6, epsilon 0.01\n",
      "Episode 90000: return 6, average returns 7.3, epsilon 0.01\n",
      "Episode 91000: return 3, average returns 7.3, epsilon 0.01\n",
      "Episode 92000: return 7, average returns 7.5, epsilon 0.01\n",
      "Episode 93000: return 6, average returns 7.4, epsilon 0.01\n",
      "Episode 94000: return 4, average returns 7.2, epsilon 0.01\n",
      "Episode 95000: return 11, average returns 7.6, epsilon 0.01\n",
      "Episode 96000: return 11, average returns 7.4, epsilon 0.01\n",
      "Episode 97000: return 7, average returns 7.4, epsilon 0.01\n",
      "Episode 98000: return 7, average returns 7.5, epsilon 0.01\n",
      "Episode 99000: return 11, average returns 7.4, epsilon 0.01\n",
      "Episode 100000: return 10, average returns 7.3, epsilon 0.01\n"
     ]
    }
   ],
   "source": [
    "returns_list = []\n",
    "\n",
    "for episode in range(1, 100001): #episodios\n",
    "    #reinicia variaveis e o estado no comeco de cada episodio\n",
    "    state = env.reset()\n",
    "    done = False\n",
    "    returns = 0\n",
    "    \n",
    "    \n",
    "    while not done: #enquanto o episodio nao termina\n",
    "        action = agent.choose_action(env, state)\n",
    "\n",
    "        next_state, reward, done, _ = env.step(action)\n",
    "\n",
    "        agent.updates_Q(state, action, next_state, reward)\n",
    "\n",
    "        #atualiza valores do retorno e do estado atual\n",
    "        returns += reward\n",
    "        state = next_state\n",
    "    \n",
    "    agent.epsilon_decay() #decai o epsilon\n",
    "    returns_list.append(returns) \n",
    "\n",
    "    if episode %1000 == 0:\n",
    "        print(f\"Episode {episode}: return {returns}, average returns {np.mean(returns_list[-1000:]):.1f}, epsilon {agent.epsilon:.2f}\")\n"
   ]
  },
  {
   "cell_type": "markdown",
   "metadata": {},
   "source": [
    "Podemos ver que o tivemos bons resultados após o treinamento, tendo um retorno médio bem superior ao inicial. A evolução do retorno médio ao longo do treino pode ser conferida no gráfico a seguir:"
   ]
  },
  {
   "cell_type": "code",
   "execution_count": 5,
   "metadata": {},
   "outputs": [],
   "source": [
    "import matplotlib.pyplot as plt\n",
    "import pandas as pd"
   ]
  },
  {
   "cell_type": "code",
   "execution_count": 6,
   "metadata": {},
   "outputs": [
    {
     "data": {
      "image/png": "[encoded data removed]",
      "text/plain": [
       "<Figure size 432x288 with 1 Axes>"
      ]
     },
     "metadata": {
      "needs_background": "light"
     },
     "output_type": "display_data"
    }
   ],
   "source": [
    "d = pd.Series(returns_list)\n",
    "\n",
    "plt.plot(d.rolling(1000).mean()) #usa pandas para calcular media movel\n",
    "plt.xlabel('Episodio')\n",
    "plt.ylabel('Retorno medio')\n",
    "plt.title('Resultados do Treino')\n",
    "plt.show()"
   ]
  },
  {
   "cell_type": "code",
   "execution_count": null,
   "metadata": {},
   "outputs": [],
   "source": []
  }
 ],
 "metadata": {
  "kernelspec": {
   "display_name": "Python 3",
   "language": "python",
   "name": "python3"
  },
  "language_info": {
   "codemirror_mode": {
    "name": "ipython",
    "version": 3
   },
   "file_extension": ".py",
   "mimetype": "text/x-python",
   "name": "python",
   "nbconvert_exporter": "python",
   "pygments_lexer": "ipython3",
   "version": "3.8.8"
  }
 },
 "nbformat": 4,
 "nbformat_minor": 4
}
