{
 "cells": [
  {
   "cell_type": "markdown",
   "metadata": {},
   "source": [
    "# 🏔 Monte Carlo Every Visit\n",
    "\n",
    "**Monte Carlo Every-Visit** é um algoritmo de controle por Monte Carlo, ou seja, ele estima nossa função de valor *q(s, a)* a partir dos retornos médios de cada par estado-ação, e toma ações no ambiente com base nessas estimativas. \n",
    "\n",
    "Entretanto, esse algoritmo difere de outros métodos de Monte Carlo por utilizar todos os retornos de um par estado-ação durante um episódio. Isso significa que, quando o nosso agente visita um estado repetido e toma uma mesma ação, o cálculo da função de valor levará em conta o retorno de todas as vezes que essa ação foi tomada."
   ]
  },
  {
   "cell_type": "markdown",
   "metadata": {},
   "source": [
    "## Política ε-greedy\n",
    "\n",
    "Para garantir que os métodos de Monte Carlo convirjam para a função de valor real, é necessário seguir uma política que explore todas as ações de todos os estados. Entretanto, também é interessante que o agente tente conseguir cada vez mais recompensas, para maximizar sua perfomance.\n",
    "\n",
    "Assim foi desenvolvida a política *ε-greedy*, que escolhe a próxima ação com base em um parâmetro *ε*, normalmente pequeno. A cada decisão, a política tem uma probabilidade *ε* de escolher uma ação aleatória, aumentando a exploração, e uma probabilidade *1 - ε* de escolher a ação associada ao maior *Q*. Dessa forma, ela estabelece um equilíbrio entre a exploração de ações e a explotação de recompensas. Essa política é dada por:\n",
    "\n",
    "<img src=\"https://latex.codecogs.com/svg.latex?\\pi(a|S_t)&space;\\leftarrow&space;\\begin{cases}&space;1&space;-&space;\\varepsilon&space;&plus;&space;\\varepsilon/\\left|\\mathcal{A}(S_t)\\right|,&space;&&space;\\mbox{se&space;}&space;a&space;=&space;\\underset{a}{\\mathrm{argmax}}&space;\\,&space;Q(S_t,a)&space;\\\\&space;\\varepsilon/\\left|\\mathcal{A}(S_t)\\right|,&space;&&space;\\mbox{se&space;}&space;a&space;\\neq&space;\\underset{a}{\\mathrm{argmax}}&space;\\,&space;Q(S_t,a)&space;\\end{cases}\" title=\"\\pi(a|S_t) \\leftarrow \\begin{cases} 1 - \\varepsilon + \\varepsilon/\\left|\\mathcal{A}(S_t)\\right|, & \\mbox{se } a = \\underset{a}{\\mathrm{argmax}} \\, Q(S_t,a) \\\\ \\varepsilon/\\left|\\mathcal{A}(S_t)\\right|, & \\mbox{se } a \\neq \\underset{a}{\\mathrm{argmax}} \\, Q(S_t,a) \\end{cases}\" />\n",
    "\n",
    "<img src=\"https://latex.codecogs.com/svg.latex?\\left|\\mathcal{A}(S_t)\\right|&space;\\rightarrow&space;\\textrm{quantidade&space;de&space;acoes&space;possiveis}\" title=\"\\left|\\mathcal{A}(S_t)\\right| \\rightarrow \\textrm{quantidade de acoes possiveis}\" />"
   ]
  },
  {
   "cell_type": "markdown",
   "metadata": {},
   "source": [
    "## Algoritmo\n",
    "\n",
    "Primeiramente, devemos inicializar a nossa tabela *Q(s, a)* com valores arbitrários para cada par estado-ação. Nesse caso, vamos optar por superestimar os valores Q de modo a incentivar a exploração do agente.\n",
    "\n",
    "Também inicializamos uma tabela *N(s, a)* que guarda a quantidade de retornos obtidos de cada par estado-ação, para fazer o cálculo da média móvel dos retornos.\n",
    "\n",
    "Para cada episódio, vamos escolher ações seguindo nossa política ε-greedy e guardar os estados, ações e recompensas para cada instante *t*. Ao final, calculamos o retorno *G* de cada instante começando pelo término atualizando os valores *Q* correspondentes.\n",
    "\n",
    "Para estimar a média dos retornos, podemos utilizar a *média móvel*, de forma a realizar os cálculos na hora sem precisar guardar uma lista com todos os retornos. Ao invés disso, precisamos guardar apenas a média anterior e a quantidade total de elementos *n*.\n",
    "\n",
    "<img src=\"https://latex.codecogs.com/svg.latex?{\\overline&space;{x}}_{novo}&space;=&space;\\frac{(n&space;-&space;1){\\overline&space;{x}}_{anterior}&space;&plus;&space;x_n}{n}\" title=\"{\\overline {x}}_{novo} = \\frac{(n - 1){\\overline {x}}_{anterior} + x_n}{n}\" />\n",
    "\n",
    "Por fim, podemos ver abaixo um exemplo em pseudo-código do funcionamento do algoritmo de Monte Carlo Every-Visit:\n",
    "\n",
    "![On-policy every-visit MC control](imgs/MC.svg)"
   ]
  },
  {
   "cell_type": "markdown",
   "metadata": {},
   "source": [
    "## Código\n",
    "\n",
    "Antes de começar a programar nosso algoritmo, devemos importar a biblioteca ***gym*** e criar o ambiente *FrozenLake-v0*, que usaremos para testar o Monte Carlo Every-Visit."
   ]
  },
  {
   "cell_type": "code",
   "execution_count": 1,
   "metadata": {},
   "outputs": [
    {
     "data": {
      "text/plain": [
       "[42]"
      ]
     },
     "execution_count": 1,
     "metadata": {},
     "output_type": "execute_result"
    }
   ],
   "source": [
    "# Importando a biblioteca gym\n",
    "import gym\n",
    "\n",
    "# Criando o ambiente\n",
    "env = gym.make(\"FrozenLake-v0\")\n",
    "env.seed(42)"
   ]
  },
  {
   "cell_type": "markdown",
   "metadata": {},
   "source": [
    "Em seguida, vamos definir uma função argmax, que retornará o índice do elemento de maior valor dentro de um vetor. Usaremos essa função para escolher a ação com maior valor *Q* dentro da nossa tabela de valores.\n",
    "\n",
    "É importante definir nossa própria função de argmax pois, em casos de empate, ela deve decidir aleatoriamente entre um dos índices dos elementos de maior valor."
   ]
  },
  {
   "cell_type": "code",
   "execution_count": 2,
   "metadata": {},
   "outputs": [],
   "source": [
    "def argmax(array):\n",
    "    \"\"\"Retorna o argumento máximo de uma lista.\"\"\"\n",
    "    return np.random.choice(np.flatnonzero(array == array.max()))"
   ]
  },
  {
   "cell_type": "markdown",
   "metadata": {},
   "source": [
    "Agora sim podemos criar o nosso agente, uma classe com os métodos *step*, *store_experience* e *update*:\n",
    "  - `step(self, state, epsilon=0)` - Escolhe a próxima ação a se tomar com base no estado atual.\n",
    "  \n",
    "  - `store_experience(self, state, action, reward)` - Guarda a tupla (*estado*, *ação, *recompensa*) atual, para depois realizar o cálculo dos retornos.\n",
    "  \n",
    "  - `update(self)` - Atualiza a função valor com base nos retornos do episódio."
   ]
  },
  {
   "cell_type": "code",
   "execution_count": 3,
   "metadata": {},
   "outputs": [],
   "source": [
    "import numpy as np\n",
    "from collections import defaultdict\n",
    "\n",
    "class MonteCarloAgent(object):\n",
    "    \"\"\"Agente de Monte Carlo.\"\"\"\n",
    "    def __init__(self, gamma, action_space):\n",
    "        \"\"\"Inicializa o agente.\n",
    "\n",
    "        Parâmetros\n",
    "        ----------\n",
    "        gamma: float\n",
    "            Fator de desconto.\n",
    "        action_space: Space\n",
    "            Espaço de ação do ambiente.\n",
    "        \"\"\"\n",
    "        # Dicionário com as nossas estimativas de Q para cada par estado-ação\n",
    "        self.q_values = defaultdict(lambda: np.ones(action_space.n))\n",
    "        \n",
    "        # Dicionário com a quantidade de vezes que visitamos cada par estado-ação\n",
    "        self.times_visited = defaultdict(lambda: np.zeros(action_space.n))\n",
    "        \n",
    "        # Lista para guardar as transições de um episódio\n",
    "        self.experiences = []\n",
    "        self.gamma = gamma\n",
    "        self.action_space = action_space\n",
    "        \n",
    "    def step(self, state, epsilon=0):\n",
    "        \"\"\"Escolhe uma ação.\n",
    "\n",
    "        Parâmetros\n",
    "        ----------\n",
    "        state: np.array\n",
    "            Estado no instante atual.\n",
    "        epsilon: float\n",
    "            Probabilidade de escolher uma ação aleatoriamente. (default 0)\n",
    "            \n",
    "        Retorna\n",
    "        -------\n",
    "        action: int\n",
    "            Ação escolhida.\n",
    "        \"\"\"\n",
    "        if np.random.random() < epsilon:\n",
    "            action = self.action_space.sample()\n",
    "        else:\n",
    "            action = argmax(self.q_values[state])\n",
    "        return action\n",
    "    \n",
    "    def store_experience(self, state, action, reward):\n",
    "        \"\"\"Guarda uma transição do episódio.\n",
    "\n",
    "        Parâmetros\n",
    "        ----------\n",
    "        state: np.array\n",
    "            Estado da transição.\n",
    "        action: int\n",
    "            Ação tomada.\n",
    "        reward: float\n",
    "            Recompensa recebida.\n",
    "        \"\"\"\n",
    "        self.experiences.append((state, action, reward))\n",
    "        \n",
    "    def update(self):\n",
    "        \"\"\"Atualiza os valores q do agente.\"\"\"\n",
    "        g = 0\n",
    "        for state, action, reward in reversed(self.experiences):\n",
    "            g = self.gamma*g + reward\n",
    "            self.times_visited[state][action] += 1\n",
    "            self.q_values[state][action] = ((self.times_visited[state][action]-1) * self.q_values[state][action] + g)/self.times_visited[state][action]\n",
    "            \n",
    "        self.experiences = []"
   ]
  },
  {
   "cell_type": "markdown",
   "metadata": {},
   "source": [
    "Agora que definimos o nosso agente, podemos instanciá-lo e treiná-lo."
   ]
  },
  {
   "cell_type": "code",
   "execution_count": 4,
   "metadata": {},
   "outputs": [],
   "source": [
    "# Instanciando nosso agente com um gamma igual a 0.9\n",
    "agent = MonteCarloAgent(0.9, env.action_space)"
   ]
  },
  {
   "cell_type": "markdown",
   "metadata": {},
   "source": [
    "Para começar o treinamento, precisamos definir o seguinte loop:"
   ]
  },
  {
   "cell_type": "code",
   "execution_count": 5,
   "metadata": {},
   "outputs": [
    {
     "name": "stdout",
     "output_type": "stream",
     "text": [
      "Episode: 100000 Success Rate: 0.3710\r"
     ]
    }
   ],
   "source": [
    "from collections import deque\n",
    "\n",
    "# Guarda os retornos dos últimos episódios\n",
    "returns = deque(maxlen=1000)\n",
    "\n",
    "for episode in range(1, 100001):\n",
    "    state = env.reset()\n",
    "    done = False\n",
    "    \n",
    "    ep_return = 0\n",
    "    \n",
    "    while not done:\n",
    "        # Escolhe uma ação com epsilon = 0.1\n",
    "        action = agent.step(state, epsilon=0.1)\n",
    "        \n",
    "        # Toma a ação escolhida\n",
    "        next_state, reward, done, _ = env.step(action)\n",
    "        \n",
    "        # Guarda a transição do estado\n",
    "        agent.store_experience(state, action, reward)\n",
    "        \n",
    "        state = next_state\n",
    "        ep_return += reward\n",
    "    \n",
    "    # Atualiza o agente ao final de cada episódio\n",
    "    agent.update()\n",
    "    \n",
    "    returns.append(ep_return)\n",
    "    \n",
    "    # Mostra a taxa de sucesso do agente a cada 500 episódios\n",
    "    if episode % 500 == 0:\n",
    "        print(f\"Episode: {episode:5d} Success Rate: {np.mean(returns):5.4f}\\r\", end=\"\")"
   ]
  },
  {
   "cell_type": "markdown",
   "metadata": {},
   "source": [
    "Agora que nosso agente terminou de treinar, podemos testá-lo em 1000 episódios com epsilon = 0!"
   ]
  },
  {
   "cell_type": "code",
   "execution_count": 6,
   "metadata": {},
   "outputs": [
    {
     "name": "stdout",
     "output_type": "stream",
     "text": [
      "Success Rate: 0.7310\r"
     ]
    }
   ],
   "source": [
    "from collections import deque\n",
    "\n",
    "# Guarda o retornos dos 1000 episódios\n",
    "returns = deque(maxlen=1000)\n",
    "\n",
    "for episode in range(1, 1001):\n",
    "    state = env.reset()\n",
    "    done = False\n",
    "    \n",
    "    ret = 0\n",
    "    \n",
    "    while not done:\n",
    "        # Escolhe uma ação com epsilon = 0\n",
    "        action = agent.step(state, epsilon=0)\n",
    "        \n",
    "        # Toma a ação escolhida\n",
    "        next_state, reward, done, _ = env.step(action)\n",
    "        \n",
    "        state = next_state\n",
    "        ret += reward\n",
    "        \n",
    "    returns.append(ret)\n",
    "\n",
    "# Mostra a taxa de sucesso ao longo dos 1000 episódios\n",
    "print(f\"Success Rate: {np.mean(returns):5.4f}\\r\", end=\"\")"
   ]
  },
  {
   "cell_type": "markdown",
   "metadata": {},
   "source": [
    "Nosso agente conseguiu uma taxa de sucesso maior que 70%!\n",
    "\n",
    "Como há muita aleatoriedade no ambiente, essa taxa de sucesso é uma das melhores possíveis."
   ]
  }
 ],
 "metadata": {
  "kernelspec": {
   "display_name": "Python 3",
   "language": "python",
   "name": "python3"
  },
  "language_info": {
   "codemirror_mode": {
    "name": "ipython",
    "version": 3
   },
   "file_extension": ".py",
   "mimetype": "text/x-python",
   "name": "python",
   "nbconvert_exporter": "python",
   "pygments_lexer": "ipython3",
   "version": "3.7.6"
  }
 },
 "nbformat": 4,
 "nbformat_minor": 4
}
