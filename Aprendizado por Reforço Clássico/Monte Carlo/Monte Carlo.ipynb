{
 "cells": [
  {
   "cell_type": "markdown",
   "metadata": {},
   "source": [
    "# 🏔 Monte Carlo Every-Visit"
   ]
  },
  {
   "cell_type": "code",
   "execution_count": 1,
   "metadata": {},
   "outputs": [
    {
     "data": {
      "text/plain": [
       "[42]"
      ]
     },
     "execution_count": 1,
     "metadata": {},
     "output_type": "execute_result"
    }
   ],
   "source": [
    "import gym\n",
    "\n",
    "env = gym.make(\"FrozenLake-v0\")\n",
    "env.seed(42)"
   ]
  },
  {
   "cell_type": "code",
   "execution_count": 2,
   "metadata": {},
   "outputs": [],
   "source": [
    "def argmax(array):\n",
    "    return np.random.choice(np.flatnonzero(array == array.max()))"
   ]
  },
  {
   "cell_type": "code",
   "execution_count": 3,
   "metadata": {},
   "outputs": [],
   "source": [
    "import numpy as np\n",
    "from collections import defaultdict\n",
    "\n",
    "class MonteCarloAgent(object):\n",
    "    def __init__(self, gamma, action_space):\n",
    "        self.q_values = defaultdict(lambda: np.ones(action_space.n))\n",
    "        self.times_visited = defaultdict(lambda: np.zeros(action_space.n))\n",
    "        self.experiences = []\n",
    "        self.gamma = gamma\n",
    "        self.action_space = action_space\n",
    "        \n",
    "    def step(self, state, epsilon=0):\n",
    "        if np.random.random() < epsilon:\n",
    "            action = self.action_space.sample()\n",
    "        else:\n",
    "            action = argmax(self.q_values[state])\n",
    "        return action\n",
    "    \n",
    "    def store_experience(self, state, action, reward):\n",
    "        self.experiences.append((state, action, reward))\n",
    "        \n",
    "    def update(self):\n",
    "        g = 0\n",
    "        for state, action, reward in reversed(self.experiences):\n",
    "            g = self.gamma*g + reward\n",
    "            self.times_visited[state][action] += 1\n",
    "            self.q_values[state][action] = ((self.times_visited[state][action]-1) * self.q_values[state][action] + g)/self.times_visited[state][action]\n",
    "            \n",
    "        self.experiences = []"
   ]
  },
  {
   "cell_type": "code",
   "execution_count": 4,
   "metadata": {},
   "outputs": [],
   "source": [
    "agent = MonteCarloAgent(0.9, env.action_space)"
   ]
  },
  {
   "cell_type": "code",
   "execution_count": 5,
   "metadata": {},
   "outputs": [
    {
     "name": "stdout",
     "output_type": "stream",
     "text": [
      "Episode: 100000 Success Rate: 0.3980\r"
     ]
    }
   ],
   "source": [
    "from collections import deque\n",
    "\n",
    "returns = deque(maxlen=1000)\n",
    "\n",
    "for episode in range(1, 100001):\n",
    "    state = env.reset()\n",
    "    done = False\n",
    "    \n",
    "    ep_return = 0\n",
    "    \n",
    "    while not done:\n",
    "        action = agent.step(state, epsilon=0.1)\n",
    "        next_state, reward, done, _ = env.step(action)\n",
    "        agent.store_experience(state, action, reward)\n",
    "        state = next_state\n",
    "        ep_return += reward\n",
    "        \n",
    "    returns.append(ep_return)\n",
    "    agent.update()\n",
    "    \n",
    "    if episode % 500 == 0:\n",
    "        print(f\"Episode: {episode:5d} Success Rate: {np.mean(returns):5.4f}\\r\", end=\"\")"
   ]
  },
  {
   "cell_type": "code",
   "execution_count": 6,
   "metadata": {},
   "outputs": [
    {
     "name": "stdout",
     "output_type": "stream",
     "text": [
      "Episode:  1000 Success Rate: 0.7190\r"
     ]
    }
   ],
   "source": [
    "from collections import deque\n",
    "\n",
    "returns = deque(maxlen=1000)\n",
    "\n",
    "for episode in range(1, 1001):\n",
    "    state = env.reset()\n",
    "    done = False\n",
    "    \n",
    "    ret = 0\n",
    "    \n",
    "    while not done:\n",
    "        action = agent.step(state, epsilon=0)\n",
    "        next_state, reward, done, _ = env.step(action)\n",
    "        state = next_state\n",
    "        ret += reward\n",
    "        \n",
    "    returns.append(ret)\n",
    "    \n",
    "print(f\"Episode: {episode:5d} Success Rate: {np.mean(returns):5.4f}\\r\", end=\"\")"
   ]
  }
 ],
 "metadata": {
  "kernelspec": {
   "display_name": "Python 3",
   "language": "python",
   "name": "python3"
  },
  "language_info": {
   "codemirror_mode": {
    "name": "ipython",
    "version": 3
   },
   "file_extension": ".py",
   "mimetype": "text/x-python",
   "name": "python",
   "nbconvert_exporter": "python",
   "pygments_lexer": "ipython3",
   "version": "3.7.6"
  }
 },
 "nbformat": 4,
 "nbformat_minor": 4
}
